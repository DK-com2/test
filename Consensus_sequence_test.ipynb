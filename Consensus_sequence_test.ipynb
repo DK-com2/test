{
 "cells": [
  {
   "cell_type": "code",
   "execution_count": 1,
   "metadata": {},
   "outputs": [
    {
     "name": "stdout",
     "output_type": "stream",
     "text": [
      "Sympetrum_baccha\n",
      "><unknown id> <unknown description>\n",
      "------------------------------------------------------------\n",
      "---------------------------ACTGGTACCACTTATATTAGGGGCTCCAGATAT\n",
      "AGCCTTCCCCCGATTAAATAATATAAGTTTTTGACTTTTACCTCCCTCTTTCACCCTACT\n",
      "TCTGGCTAGAAGTATAGTTGAAAGAGGGGCAGGAACCGGATGAACTGTTTATCCTCCTTT\n",
      "AGCTGGAGCTATTGCTCACGCTGGAGCATCCGTAGATCTTACTATTTTTTCATTACATCT\n",
      "TGCGGGAGTCTCTTCAATTTTAGGTGCAATCAATTTTATTACTACAGTAATTAATATAAA\n",
      "ATCTCCTGGAATAAAACTAGATCAAATACCACTATTTGTATGGGCAGTAGTAATTACAGC\n",
      "AGTACTACTACTACTATCCCTACCTGTTCTGGCTGGTGCTATTACTATATTATTAACCGA\n",
      "CCGAAATATCAATACATCATTCTTTGACCCTGCAGGAGGGGGAGATCCTATTTTGTAT--\n",
      "------------------------------------------------------------\n",
      "------------------------------------------------------------\n",
      "------------------------------------------------------------\n",
      "------------------------------------------------------------\n",
      "------------------------------------------------------------\n",
      "------------------------------------------------------------\n",
      "------------------------------------------------------------\n",
      "------------------------------------------------------------\n",
      "------------------------------------------------------------\n",
      "------------------------------------------------------------\n",
      "-------\n",
      "\n"
     ]
    }
   ],
   "source": [
    "from IPython.display import clear_output\n",
    "import os\n",
    "import shutil\n",
    "import time\n",
    "from Bio import AlignIO\n",
    "from Bio import SeqIO\n",
    "from Bio.Seq import Seq\n",
    "from Bio.SeqRecord import SeqRecord\n",
    "\n",
    "#相対パスを指定\n",
    "folder_path = 'Sympetrum'\n",
    "\n",
    "#フォルダ内のファイルを一つずつ読み込む\n",
    "for file_name in os.listdir(folder_path):\n",
    "    if file_name.endswith('.fasta'):\n",
    "        file_path = os.path.join(folder_path, file_name)\n",
    "        alignment = AlignIO.read(file_path, 'fasta')\n",
    "        #一連の処理の進捗を確認するために表示\n",
    "        name = file_name.replace('.fasta','')\n",
    "        print(name)\n",
    "        time.sleep(0.5)\n",
    "        \n",
    "\n",
    "\n",
    "#代表配列を保存するための空のリストを作成する\n",
    "        consensus = []\n",
    "        for i in range(alignment.get_alignment_length()):\n",
    "        # 配置の列を取得する\n",
    "            column = alignment[:, i]\n",
    "        # 列の A、C、G、T、- の数を数える\n",
    "            count = {\"A\": 0, \"C\": 0, \"G\": 0, \"T\": 0, \"-\": 0}\n",
    "            for j in column:\n",
    "                if j in count:\n",
    "                    count[j] += 1\n",
    "        # カウントが最も高い値を返す\n",
    "            max_base = max(count, key=count.get)\n",
    "        # 配列に塩基を追加する\n",
    "            consensus.append(max_base)\n",
    "\n",
    "\n",
    "        #代表配列の SeqRecord オブジェクトを作成する\n",
    "        consensus_seq = Seq(\"\".join(consensus))\n",
    "        consensus_record = SeqRecord(consensus_seq)\n",
    "\n",
    "        #一連の処理の進捗を確認するために表示\n",
    "        print(consensus_record.format(\"fasta\"))\n",
    "        time.sleep(0.5)\n",
    "        clear_output(wait=True)\n",
    "\n",
    "        #代表配列を保存する\n",
    "        consensus_record.id = name\n",
    "        consensus_record.description = 'consensus sequence'\n",
    "        SeqIO.write(consensus_record, name + '_consensus.fasta', 'fasta')\n",
    "\n",
    "# フォルダのパス\n",
    "folder_path = '/home/dkcom/デスクトップ/primer_design/alignment_python/'\n",
    "\n",
    "# \"_\"で区切って、最初の部分を取り出す\n",
    "first_part = name.split(\"_\")[0]\n",
    "\n",
    "# フォルダが存在しない場合に作成\n",
    "if not os.path.exists(first_part+\"_consensus\"):\n",
    "    os.makedirs(first_part+\"_consensus\")\n",
    "    # フォルダに移動\n",
    "    shutil.move(name + '_consensus.fasta', first_part+\"_consensus\")\n",
    "\n",
    "# フォルダが存在する場合に移動\n",
    "\n",
    "    for filename in os.listdir():\n",
    "        if filename.startswith(first_part+\"_\") and filename.endswith(\"_consensus.fasta\"):\n",
    "        # フォルダに移動\n",
    "            shutil.move(filename, first_part+\"_consensus\")\n",
    "else:\n",
    "    for filename in os.listdir(folder_path):\n",
    "        if filename.startswith(first_part+\"_\") and filename.endswith(\"_consensus.fasta\"):\n",
    "            os.remove(os.path.join(filename))"
   ]
  },
  {
   "cell_type": "code",
   "execution_count": 1,
   "metadata": {},
   "outputs": [],
   "source": []
  },
  {
   "cell_type": "code",
   "execution_count": null,
   "metadata": {},
   "outputs": [],
   "source": []
  }
 ],
 "metadata": {
  "kernelspec": {
   "display_name": "primer",
   "language": "python",
   "name": "python3"
  },
  "language_info": {
   "codemirror_mode": {
    "name": "ipython",
    "version": 3
   },
   "file_extension": ".py",
   "mimetype": "text/x-python",
   "name": "python",
   "nbconvert_exporter": "python",
   "pygments_lexer": "ipython3",
   "version": "3.8.15 (default, Nov 24 2022, 15:19:38) \n[GCC 11.2.0]"
  },
  "orig_nbformat": 4,
  "vscode": {
   "interpreter": {
    "hash": "2bb0823a418acd0601b4af9cd4086f1e18910aea704b27735c1d1f1cab4a9f35"
   }
  }
 },
 "nbformat": 4,
 "nbformat_minor": 2
}
